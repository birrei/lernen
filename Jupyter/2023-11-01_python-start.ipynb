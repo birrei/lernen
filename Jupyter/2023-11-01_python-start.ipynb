{
 "cells": [
  {
   "cell_type": "markdown",
   "metadata": {},
   "source": [
    "# Lernprogramm - Buch \"Python für Excel\"\n",
    "## Kapitel "
   ]
  },
  {
   "cell_type": "code",
   "execution_count": 1,
   "metadata": {},
   "outputs": [
    {
     "data": {
      "text/plain": [
       "{'EURUSD': 1.1152, 'GBPUSD': 1.2, 'AUSUSD': 0.6161, 'CADUSD': 0.714}"
      ]
     },
     "execution_count": 1,
     "metadata": {},
     "output_type": "execute_result"
    }
   ],
   "source": [
    "## Wörterbücher - Seite 76 \n",
    "exchange_rates={\"EURUSD\": 1.1152, \"GBPUSD\": 1.1253, \"AUSUSD\": 0.6161}\n",
    "exchange_rates # ausgabe: {'EURUSD': 1.1152, 'GBPUSD': 1.1253, 'AUSUSD': 0.6161}\n",
    "exchange_rates[\"GBPUSD\"] # ausgabe:1.1253\n",
    "# einen vorhandenen Wert ändern \n",
    "exchange_rates[\"GBPUSD\"]=1.2\n",
    "exchange_rates\n",
    "# ein Element ergänzen \n",
    "exchange_rates[\"CADUSD\"]=0.714\n",
    "exchange_rates # ausgabe: {'EURUSD': 1.1152, 'GBPUSD': 1.2, 'AUSUSD': 0.6161, 'CADUSD': 0.714}\n",
    "# Elemente über Zusammeführung ergänzen - Entpacken: **, Überschreiben eines Wertes \n",
    "## {**exchange_rates, **{\"SGDUSD\":0.7004, \"GBPUSD\": 1.2222}}\n",
    "## ... oder ab Python 3.9 mit merge-Operator \n",
    "# exchange_rates | {\"SGDUSD\":0.7004, \"GBPUSD\": 1.2222}\n",
    "## --- fehler, da nur python 3.8 --  "
   ]
  },
  {
   "cell_type": "code",
   "execution_count": null,
   "metadata": {},
   "outputs": [],
   "source": []
  },
  {
   "cell_type": "code",
   "execution_count": 124,
   "metadata": {},
   "outputs": [
    {
     "name": "stdout",
     "output_type": "stream",
     "text": [
      "['Jennifer', 'Linda']\n"
     ]
    },
    {
     "data": {
      "text/plain": [
       "['Jennifer', 'Linda']"
      ]
     },
     "execution_count": 124,
     "metadata": {},
     "output_type": "execute_result"
    }
   ],
   "source": [
    "## Listen - Seite 74\n",
    "\n",
    "file_names = [\"one.xlsx\", \"two.xlsx\", \"three.xlsx\"]\n",
    "numbers= [1,2,3]\n",
    "file_names + numbers # verkettung \n",
    "\n",
    "# verschachtelte Listen \n",
    "cells = [[1,2,3], [4,5,6], [7,8,9]]\n",
    "cells[1] # Ausgabe: [4, 5, 6]\n",
    "cells[1][1:] ## Ausgabe: [5, 6]\n",
    "\n",
    "# Änderung von Listen \n",
    "# Für Löschung \"pop\" oder \"del\" möglich \n",
    "users=[\"Linda\", \"Brian\"]\n",
    "users.append(\"Jennifer\") # Listen-Element anhängen.  \n",
    "users # Ausgabe: ['Linda', 'Brian', 'Jennifer']\n",
    "users.insert(0,\"Kim\") # Listen-Element mit Index-Angabe einfügen \n",
    "users # Ausgabe: ['Linda', 'Brian', 'Jennifer']\n",
    "# users.pop() # Listenelement löschen: Ausgabe: 'Jennifer'\n",
    "users.pop(2) # Listenelement löschen: Ausgabe: 'Brian'\n",
    "users # Ausgabe: ['Kim', 'Linda', 'Jennifer']\n",
    "del users[0]\n",
    "users # Ausgabe: ['Linda', 'Jennifer']\n",
    "len(users) # Ausgabe: 2 - Anzahl der Listenelemente  \n",
    "\"Linda\" in users # Prüfen, ob users den String \"Linda\" enthält (True)\n",
    "print(sorted(users)) # sortierte Ausgabe: ['Jennifer', 'Linda']\n",
    "users.sort() # Liste sortieren \n",
    "users"
   ]
  },
  {
   "cell_type": "code",
   "execution_count": 96,
   "metadata": {},
   "outputs": [
    {
     "data": {
      "text/plain": [
       "'H'"
      ]
     },
     "execution_count": 96,
     "metadata": {},
     "output_type": "execute_result"
    }
   ],
   "source": [
    "language=\"PYTHON\"\n",
    "# # Indizieren \n",
    "# language[0] \n",
    "# language[-1]\n",
    "# # Slicling\n",
    "# language[:3] # ist das gleiche wie: \n",
    "# language[0:3]\n",
    "# language[::2] # jeder 2. Buchstabe \n",
    "language[-1:-4:-1] # \"NOH\"\n",
    "language[::] # gibt Text unverändert aus \n",
    "language[-3:-2:1]\n",
    "# kombinantion \n",
    "# language[0:2][-1] # \"Y\"\n",
    "\n",
    "# -----------\n"
   ]
  },
  {
   "cell_type": "code",
   "execution_count": 65,
   "metadata": {},
   "outputs": [
    {
     "data": {
      "text/plain": [
       "False"
      ]
     },
     "execution_count": 65,
     "metadata": {},
     "output_type": "execute_result"
    }
   ],
   "source": [
    "\"PYTHON\".isdigit()"
   ]
  },
  {
   "cell_type": "code",
   "execution_count": 60,
   "metadata": {},
   "outputs": [
    {
     "data": {
      "text/plain": [
       "'PYTHON'"
      ]
     },
     "execution_count": 60,
     "metadata": {},
     "output_type": "execute_result"
    }
   ],
   "source": [
    "\"PYTHON\".lower().upper()"
   ]
  },
  {
   "cell_type": "code",
   "execution_count": 57,
   "metadata": {},
   "outputs": [
    {
     "data": {
      "text/plain": [
       "'Python ist frei and Open Source.'"
      ]
     },
     "execution_count": 57,
     "metadata": {},
     "output_type": "execute_result"
    }
   ],
   "source": [
    "# In python könen Sie bequem mehrere Variablen \n",
    "# in einer einzigen Zeile zuweisen \n",
    "first_adj, second_adj = \"frei\", \"Open Source\"\n",
    "f\"Python ist {first_adj} and {second_adj}.\""
   ]
  },
  {
   "cell_type": "code",
   "execution_count": 52,
   "metadata": {},
   "outputs": [
    {
     "name": "stdout",
     "output_type": "stream",
     "text": [
      "****** Zeichenketten *****\n",
      "Don't wait! Learn how to \"speak\" Python.\n",
      "IT's easy to \"escape\" characters with a leading \\ .\n"
     ]
    }
   ],
   "source": [
    "print(\"****** Zeichenketten *****\")\n",
    "print(\"Don't wait! \" + 'Learn how to \"speak\" Python.')\n",
    "print(\"IT's easy to \\\"escape\\\" characters with a leading \\\\ .\")"
   ]
  },
  {
   "cell_type": "code",
   "execution_count": 45,
   "metadata": {},
   "outputs": [
    {
     "name": "stdout",
     "output_type": "stream",
     "text": [
      "Verwendung bool-Konstruktor\n",
      "a: False\n",
      "b: True\n",
      "c: False\n",
      "d: True\n",
      "x: False\n"
     ]
    }
   ],
   "source": [
    "print(\"Verwendung bool-Konstruktor\")\n",
    "\n",
    "a= bool(\"\")\n",
    "print(\"a:\", a)\n",
    "\n",
    "b=bool(\"Hallo\")\n",
    "print(\"b:\", b)\n",
    "\n",
    "c=bool(0)\n",
    "print(\"c:\", c)\n",
    "\n",
    "d=bool(1)\n",
    "print(\"d:\", d)\n",
    "\n",
    "x=bool(None)\n",
    "print(\"x:\", x)\n",
    "\n"
   ]
  },
  {
   "cell_type": "code",
   "execution_count": 34,
   "metadata": {},
   "outputs": [
    {
     "data": {
      "text/plain": [
       "True"
      ]
     },
     "execution_count": 34,
     "metadata": {},
     "output_type": "execute_result"
    }
   ],
   "source": [
    "False or True"
   ]
  },
  {
   "cell_type": "code",
   "execution_count": 33,
   "metadata": {},
   "outputs": [
    {
     "data": {
      "text/plain": [
       "False"
      ]
     },
     "execution_count": 33,
     "metadata": {},
     "output_type": "execute_result"
    }
   ],
   "source": [
    "False and True"
   ]
  },
  {
   "cell_type": "code",
   "execution_count": 32,
   "metadata": {},
   "outputs": [
    {
     "data": {
      "text/plain": [
       "False"
      ]
     },
     "execution_count": 32,
     "metadata": {},
     "output_type": "execute_result"
    }
   ],
   "source": [
    "not True"
   ]
  },
  {
   "cell_type": "code",
   "execution_count": 29,
   "metadata": {},
   "outputs": [
    {
     "name": "stdout",
     "output_type": "stream",
     "text": [
      "Einsatz von Klammern\n",
      "13\n",
      "21\n",
      "13\n"
     ]
    }
   ],
   "source": [
    "print('Einsatz von Klammern')\n",
    "a= 3 * 3 + 4 # \n",
    "print(a)\n",
    "b= 3 * (3 + 4) \n",
    "print(b)\n",
    "c= (3 * 3) + 4 \n",
    "print(c)"
   ]
  },
  {
   "cell_type": "code",
   "execution_count": 24,
   "metadata": {},
   "outputs": [
    {
     "name": "stdout",
     "output_type": "stream",
     "text": [
      "Gleitkommazahlen\n"
     ]
    },
    {
     "data": {
      "text/plain": [
       "0.02499999999999991"
      ]
     },
     "execution_count": 24,
     "metadata": {},
     "output_type": "execute_result"
    }
   ],
   "source": [
    "print('Gleitkommazahlen')\n",
    "1.125-1.1"
   ]
  },
  {
   "cell_type": "code",
   "execution_count": 20,
   "metadata": {},
   "outputs": [
    {
     "name": "stdout",
     "output_type": "stream",
     "text": [
      "datentyp a: <class 'str'>\n",
      "datentyp b: <class 'str'>\n",
      "datentyp c: <class 'float'>\n",
      "Hallo Welt 4.0\n"
     ]
    }
   ],
   "source": [
    "a='Hallo'\n",
    "b='Welt'\n",
    "c=4.\n",
    "print('datentyp a:', type(a)) \n",
    "print('datentyp b:', type(b)) \n",
    "print('datentyp c:', type(c)) \n",
    "print(a, b, c)"
   ]
  }
 ],
 "metadata": {
  "kernelspec": {
   "display_name": "Python 3",
   "language": "python",
   "name": "python3"
  },
  "language_info": {
   "codemirror_mode": {
    "name": "ipython",
    "version": 3
   },
   "file_extension": ".py",
   "mimetype": "text/x-python",
   "name": "python",
   "nbconvert_exporter": "python",
   "pygments_lexer": "ipython3",
   "version": "3.7.6"
  }
 },
 "nbformat": 4,
 "nbformat_minor": 4
}
