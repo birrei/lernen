{
 "cells": [
  {
   "cell_type": "markdown",
   "metadata": {},
   "source": [
    "# Lernprogramm - Buch \"Python für Excel\"\n",
    "## Tupel und Mengen  / Seite 78"
   ]
  },
  {
   "cell_type": "code",
   "execution_count": 8,
   "metadata": {},
   "outputs": [
    {
     "data": {
      "text/plain": [
       "('EUR', 'GBP', 'AUD', 'EUR')"
      ]
     },
     "execution_count": 8,
     "metadata": {},
     "output_type": "execute_result"
    }
   ],
   "source": [
    "## Tupel \n",
    "## currencies= \"EUR\", \"GBP\", \"AUD\"\n",
    "currencies= (\"EUR\", \"GBP\", \"AUD\", \"EUR\") # alternative Schreibweise, besser lesbar \n",
    "currencies\n",
    "# currencies.count(\"EUR\") ## 2"
   ]
  },
  {
   "cell_type": "code",
   "execution_count": 6,
   "metadata": {},
   "outputs": [
    {
     "data": {
      "text/plain": [
       "{'AUD', 'EUR', 'GBP'}"
      ]
     },
     "execution_count": 6,
     "metadata": {},
     "output_type": "execute_result"
    }
   ],
   "source": [
    "## Mengen: \n",
    "## Eindeutige Menge - Konstruktor eliminiert doppelte Elemente \n",
    "set([\"EUR\", \"GBP\", \"AUD\", \"EUR\"]) # \"{'AUD', 'EUR', 'GBP'}\""
   ]
  },
  {
   "cell_type": "code",
   "execution_count": 10,
   "metadata": {},
   "outputs": [
    {
     "data": {
      "text/plain": [
       "{'EUR', 'SGD'}"
      ]
     },
     "execution_count": 10,
     "metadata": {},
     "output_type": "execute_result"
    }
   ],
   "source": [
    "#Vereinigung und Schnittmenge \n",
    "portfolio1={\"USD\", \"USD\", \"SGD\", \"EUR\", \"USD\", \"EUR\"}\n",
    "portfolio2={\"EUR\", \"SGD\", \"CAD\"}\n",
    "portfolio1.union(portfolio2) ## ausgabe: {'CAD', 'EUR', 'SGD', 'USD'}\n",
    "portfolio1.intersection(portfolio2) ## ausgabe: {'EUR', 'SGD'}"
   ]
  },
  {
   "cell_type": "code",
   "execution_count": 18,
   "metadata": {},
   "outputs": [
    {
     "data": {
      "text/plain": [
       "('USD', 'EUR', 'CHF')"
      ]
     },
     "execution_count": 18,
     "metadata": {},
     "output_type": "execute_result"
    }
   ],
   "source": [
    "# Ein Tupel in eine Liste umwandeln \n",
    "currencies= \"USD\", \"EUR\", \"CHF\"\n",
    "currencies # Ausgabe: ('USD', 'EUR', 'CHF')\n",
    "# list(currencies) # Ausgabe: ['USD', 'EUR', 'CHF']"
   ]
  },
  {
   "cell_type": "code",
   "execution_count": null,
   "metadata": {},
   "outputs": [],
   "source": []
  }
 ],
 "metadata": {
  "kernelspec": {
   "display_name": "Python 3",
   "language": "python",
   "name": "python3"
  },
  "language_info": {
   "codemirror_mode": {
    "name": "ipython",
    "version": 3
   },
   "file_extension": ".py",
   "mimetype": "text/x-python",
   "name": "python",
   "nbconvert_exporter": "python",
   "pygments_lexer": "ipython3",
   "version": "3.11.5"
  }
 },
 "nbformat": 4,
 "nbformat_minor": 4
}
