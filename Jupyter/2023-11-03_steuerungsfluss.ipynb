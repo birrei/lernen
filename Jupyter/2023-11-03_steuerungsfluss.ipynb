{
 "cells": [
  {
   "cell_type": "markdown",
   "metadata": {},
   "source": [
    "# Lernprogramm - Buch \"Python für Excel\"\n",
    "## Steuerungsfluss / Seite 80\n",
    "if-Anweisung und bedingte Ausdrücke  \n",
    "Die for- und while-Schleifen  \n",
    "  * range() -funktion \n",
    "   * range(stop)  \n",
    "   * range(start, stop, step)  \n",
    "  * items\n",
    "  * break\n",
    "  * continue \n",
    "  * "
   ]
  },
  {
   "cell_type": "code",
   "execution_count": 2,
   "metadata": {},
   "outputs": [
    {
     "name": "stdout",
     "output_type": "stream",
     "text": [
      "i ist groeeser als 10\n"
     ]
    }
   ],
   "source": [
    "# s. 80: if-Anweisung \n",
    "i=20\n",
    "if i < 5: \n",
    "    print(\"i ist kleiner als 5\")\n",
    "elif i <=10:\n",
    "    print(\"i liegt zwischen 5 und 10 \")\n",
    "else:\n",
    "    print(\"i ist groeeser als 10\")\n"
   ]
  },
  {
   "cell_type": "code",
   "execution_count": 3,
   "metadata": {},
   "outputs": [
    {
     "name": "stdout",
     "output_type": "stream",
     "text": [
      "wichtig\n"
     ]
    }
   ],
   "source": [
    "# True Angabe \n",
    "is_important=True\n",
    "if is_important:\n",
    "    # if(is_important==True)  # geht auch, aber nicht notwendig \n",
    "    print(\"wichtig\")\n",
    "else: \n",
    "    print(\"nicht wichtig\")"
   ]
  },
  {
   "cell_type": "code",
   "execution_count": 12,
   "metadata": {},
   "outputs": [
    {
     "name": "stdout",
     "output_type": "stream",
     "text": [
      "liste isch leer\n"
     ]
    }
   ],
   "source": [
    "# Prüfung, ob Liste leer ist S. 81\n",
    "values=[]\n",
    "if values:\n",
    "# if len(values) > 0: # geht auch, aber unnötig\n",
    "    print(f\"Listenwerte: {values}\")\n",
    "else:\n",
    "    print(\"liste isch leer\")\n"
   ]
  },
  {
   "cell_type": "code",
   "execution_count": 13,
   "metadata": {},
   "outputs": [
    {
     "name": "stdout",
     "output_type": "stream",
     "text": [
      "nicht wichtig\n"
     ]
    }
   ],
   "source": [
    "# demo \"bedingter Ausdruck\" (ternärer Operator) S. 82\n",
    "is_important=False\n",
    "print(\"wichtig\") if is_important else print(\"nicht wichtig\") "
   ]
  },
  {
   "cell_type": "code",
   "execution_count": 14,
   "metadata": {},
   "outputs": [
    {
     "name": "stdout",
     "output_type": "stream",
     "text": [
      "USD\n",
      "HKC\n",
      "AUD\n"
     ]
    }
   ],
   "source": [
    "currencies=[\"USD\", \"HKC\", \"AUD\"] # liste\n",
    "for currency in currencies:\n",
    "    print(currency)"
   ]
  },
  {
   "cell_type": "code",
   "execution_count": 19,
   "metadata": {},
   "outputs": [
    {
     "name": "stdout",
     "output_type": "stream",
     "text": [
      "0\n",
      "1\n",
      "2\n",
      "3\n",
      "4\n"
     ]
    }
   ],
   "source": [
    "# ***** for mit range()- Funktion *****\n",
    "\n",
    "# range(5) # ausgabe: range(0, 5)\n",
    "\n",
    "for i in range(5):\n",
    "    print(i)"
   ]
  },
  {
   "cell_type": "code",
   "execution_count": 51,
   "metadata": {},
   "outputs": [
    {
     "name": "stdout",
     "output_type": "stream",
     "text": [
      "0\n",
      "1\n",
      "2\n",
      "3\n",
      "4\n"
     ]
    }
   ],
   "source": [
    "# break: Schleife verlassen \n",
    "for i in range(15):\n",
    "    if i==5:\n",
    "        break\n",
    "    else:\n",
    "        print(i)\n"
   ]
  },
  {
   "cell_type": "code",
   "execution_count": 52,
   "metadata": {},
   "outputs": [
    {
     "name": "stdout",
     "output_type": "stream",
     "text": [
      "0\n",
      "1\n",
      "2\n",
      "3\n",
      "4\n",
      "6\n",
      "7\n",
      "8\n",
      "9\n"
     ]
    }
   ],
   "source": [
    "## continue: schleifendurchlauf überspringen \n",
    "for i in range(10):\n",
    "    if i==5:\n",
    "        continue\n",
    "    else:\n",
    "        print(i)\n"
   ]
  },
  {
   "cell_type": "code",
   "execution_count": 49,
   "metadata": {},
   "outputs": [
    {
     "name": "stdout",
     "output_type": "stream",
     "text": [
      "EURUSD\n",
      "GBPUSD\n",
      "AUSUSD\n",
      "EURUSD 1.1152\n",
      "GBPUSD 1.1253\n",
      "AUSUSD 0.6161\n"
     ]
    }
   ],
   "source": [
    "# Schleife über Wörterbuch ******\n",
    "\n",
    "exchange_rates={\"EURUSD\": 1.1152, \"GBPUSD\": 1.1253, \"AUSUSD\": 0.6161}\n",
    "# nur schlüssel \n",
    "for currency_key in exchange_rates:\n",
    "    print(currency_key)\n",
    "# schlüssel und werte \n",
    "for currency_key, exchange_rate in exchange_rates.items():\n",
    "    print(currency_key, exchange_rate)"
   ]
  },
  {
   "cell_type": "code",
   "execution_count": 56,
   "metadata": {},
   "outputs": [
    {
     "name": "stdout",
     "output_type": "stream",
     "text": [
      "0\n",
      "1\n",
      "2\n",
      "3\n",
      "4\n",
      "5\n",
      "6\n",
      "7\n",
      "8\n",
      "9\n",
      "10\n"
     ]
    }
   ],
   "source": [
    "# while schleife\n",
    "\n",
    "n=0 \n",
    "while n <=10: \n",
    "    print(n)\n",
    "    n+=1 # Erweiterte Zuweisung "
   ]
  },
  {
   "cell_type": "code",
   "execution_count": 43,
   "metadata": {},
   "outputs": [
    {
     "name": "stdout",
     "output_type": "stream",
     "text": [
      "0 EUR\n",
      "1 USD\n",
      "2 AUD\n",
      "------------\n",
      "0 EUR\n",
      "1 USD\n",
      "2 AUD\n",
      "3 XXX\n"
     ]
    }
   ],
   "source": [
    "#**** enumerate: zählervariable für sequenzen *****\n",
    "\n",
    "# currencies={1:\"EUR\",2:\"USD\",3:\"AUD\"}\n",
    "# currencies={\"EUR\",\"USD\",\"AUD\"}\n",
    "currencies=[\"EUR\",\"USD\",\"AUD\"]\n",
    "for i, currency in enumerate(currencies):\n",
    "    print(i, currency)\n",
    "print(\"------------\")\n",
    "currencies.append(\"XXX\")\n",
    "for i, currency in enumerate(currencies):\n",
    "    print(i, currency)"
   ]
  },
  {
   "cell_type": "markdown",
   "metadata": {},
   "source": [
    "## eigene Tests"
   ]
  },
  {
   "cell_type": "code",
   "execution_count": 34,
   "metadata": {},
   "outputs": [
    {
     "data": {
      "text/plain": [
       "[0, 1, 2, 3, 4]"
      ]
     },
     "execution_count": 34,
     "metadata": {},
     "output_type": "execute_result"
    }
   ],
   "source": [
    "# range in eine Liste umwandeln \n",
    "a= range(5)\n",
    "a   # out: range(0, 5)\n",
    "b = list(a)\n",
    "b   # out: [0, 1, 2, 3, 4]"
   ]
  },
  {
   "cell_type": "code",
   "execution_count": 27,
   "metadata": {},
   "outputs": [
    {
     "data": {
      "text/plain": [
       "[0, 1, 2, 3, 4]"
      ]
     },
     "execution_count": 27,
     "metadata": {},
     "output_type": "execute_result"
    }
   ],
   "source": [
    "b=list(a)\n",
    "b"
   ]
  },
  {
   "cell_type": "code",
   "execution_count": 28,
   "metadata": {},
   "outputs": [
    {
     "data": {
      "text/plain": [
       "range(2, 5, 2)"
      ]
     },
     "execution_count": 28,
     "metadata": {},
     "output_type": "execute_result"
    }
   ],
   "source": [
    "c=range(2,5,2)\n",
    "c"
   ]
  },
  {
   "cell_type": "code",
   "execution_count": 29,
   "metadata": {},
   "outputs": [
    {
     "data": {
      "text/plain": [
       "[2, 4]"
      ]
     },
     "execution_count": 29,
     "metadata": {},
     "output_type": "execute_result"
    }
   ],
   "source": [
    "list(c)"
   ]
  },
  {
   "cell_type": "markdown",
   "metadata": {},
   "source": [
    "# Listen-, Wörterbuch- und Mengenabstraktionen "
   ]
  },
  {
   "cell_type": "code",
   "execution_count": 58,
   "metadata": {},
   "outputs": [
    {
     "data": {
      "text/plain": [
       "['AUD', 'NZD']"
      ]
     },
     "execution_count": 58,
     "metadata": {},
     "output_type": "execute_result"
    }
   ],
   "source": [
    "currency_pairs=[\"USDJPY\", \"USDGBP\", \"USDCHF\", \"USDCAD\", \"AUDUSD\", \"NZDUSD\"]\n",
    "usd_quote=[]\n",
    "for pair in currency_pairs:\n",
    "    if pair[3:]==\"USD\": # falls 4.- letztes Zeichen \"USD\"\n",
    "        usd_quote.append(pair[:3]) # schreibe 1-3. Zeichen \n",
    "usd_quote\n",
    "# ... einfacher formulieren ... "
   ]
  },
  {
   "cell_type": "code",
   "execution_count": 69,
   "metadata": {},
   "outputs": [
    {
     "data": {
      "text/plain": [
       "['USD', 'USD', 'USD', 'USD', 'AUD', 'NZD']"
      ]
     },
     "execution_count": 69,
     "metadata": {},
     "output_type": "execute_result"
    }
   ],
   "source": [
    "## Listenabstraktion \n",
    "[pair[:3] for pair in currency_pairs if pair[3:]==\"USD\"] # out: ['AUD', 'NZD']\n",
    "[pair[:3] for pair in currency_pairs]\n"
   ]
  },
  {
   "cell_type": "code",
   "execution_count": 66,
   "metadata": {},
   "outputs": [
    {
     "data": {
      "text/plain": [
       "['JPYUSD', 'GBPUSD', 'CHFUSD', 'CADUSD', 'USDAUD', 'USDNZD']"
      ]
     },
     "execution_count": 66,
     "metadata": {},
     "output_type": "execute_result"
    }
   ],
   "source": [
    "## Listenabstraktion -> währungspaare umdrehen\n",
    "[pair[3:] + pair[:3] for pair in currency_pairs]"
   ]
  },
  {
   "cell_type": "code",
   "execution_count": 75,
   "metadata": {},
   "outputs": [
    {
     "data": {
      "text/plain": [
       "{'EURUSD': 111.52, 'GBPUSD': 112.53, 'AUSUSD': 61.61}"
      ]
     },
     "execution_count": 75,
     "metadata": {},
     "output_type": "execute_result"
    }
   ],
   "source": [
    "## Wörterbuchabstraktion \n",
    "## alle Währungsangaben * 100 \n",
    "exchange_rates={\"EURUSD\": 1.1152, \"GBPUSD\": 1.1253, \"AUSUSD\": 0.6161}\n",
    "{k: v * 100 for (k,v) in exchange_rates.items()}"
   ]
  },
  {
   "cell_type": "code",
   "execution_count": 77,
   "metadata": {},
   "outputs": [
    {
     "data": {
      "text/plain": [
       "{'AUDUSD', 'NZDUSD', 'USDUSD'}"
      ]
     },
     "execution_count": 77,
     "metadata": {},
     "output_type": "execute_result"
    }
   ],
   "source": [
    "## Mengenabstraktion \n",
    "## eindeutige Elemente ausgeben, und \"USD\" anhängen \n",
    "{s + \"USD\" for s in ['USD', 'USD', 'USD', 'USD', 'AUD', 'NZD']}"
   ]
  },
  {
   "cell_type": "markdown",
   "metadata": {},
   "source": [
    "### übungen ... "
   ]
  },
  {
   "cell_type": "code",
   "execution_count": null,
   "metadata": {},
   "outputs": [],
   "source": []
  },
  {
   "cell_type": "code",
   "execution_count": 68,
   "metadata": {},
   "outputs": [
    {
     "data": {
      "text/plain": [
       "{'AUD', 'NZD', 'USD'}"
      ]
     },
     "execution_count": 68,
     "metadata": {},
     "output_type": "execute_result"
    }
   ],
   "source": [
    "# Listenabstraktion -> Menge\n",
    "set([pair[:3] for pair in currency_pairs]) # probier ... Menge, out: {'AUD', 'NZD', 'USD'}"
   ]
  },
  {
   "cell_type": "code",
   "execution_count": 74,
   "metadata": {},
   "outputs": [
    {
     "data": {
      "text/plain": [
       "['EURUSD', 'GBPUSD', 'AUSUSD']"
      ]
     },
     "execution_count": 74,
     "metadata": {},
     "output_type": "execute_result"
    }
   ],
   "source": [
    "list(exchange_rates)"
   ]
  },
  {
   "cell_type": "code",
   "execution_count": null,
   "metadata": {},
   "outputs": [],
   "source": []
  }
 ],
 "metadata": {
  "kernelspec": {
   "display_name": "Python 3",
   "language": "python",
   "name": "python3"
  },
  "language_info": {
   "codemirror_mode": {
    "name": "ipython",
    "version": 3
   },
   "file_extension": ".py",
   "mimetype": "text/x-python",
   "name": "python",
   "nbconvert_exporter": "python",
   "pygments_lexer": "ipython3",
   "version": "3.11.5"
  }
 },
 "nbformat": 4,
 "nbformat_minor": 4
}
