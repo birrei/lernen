{
 "cells": [
  {
   "cell_type": "markdown",
   "metadata": {},
   "source": [
    "# Lernprogramm - Buch \"Python für Excel\"\n",
    "## Kapitel Wörterbücher (dictionaries) / Seite 76 "
   ]
  },
  {
   "cell_type": "code",
   "execution_count": 2,
   "metadata": {},
   "outputs": [
    {
     "data": {
      "text/plain": [
       "{'EURUSD': 1.1152,\n",
       " 'GBPUSD': 1.2222,\n",
       " 'AUSUSD': 0.6161,\n",
       " 'CADUSD': 0.714,\n",
       " 'SGDUSD': 0.7004}"
      ]
     },
     "execution_count": 2,
     "metadata": {},
     "output_type": "execute_result"
    }
   ],
   "source": [
    "## Wörterbücher (dictionaries) / Seite 76 \n",
    "exchange_rates={\"EURUSD\": 1.1152, \"GBPUSD\": 1.1253, \"AUSUSD\": 0.6161}\n",
    "exchange_rates # ausgabe: {'EURUSD': 1.1152, 'GBPUSD': 1.1253, 'AUSUSD': 0.6161}\n",
    "exchange_rates[\"GBPUSD\"] # ausgabe:1.1253\n",
    "# einen vorhandenen Wert ändern \n",
    "exchange_rates[\"GBPUSD\"]=1.2\n",
    "exchange_rates\n",
    "# ein Element ergänzen \n",
    "exchange_rates[\"CADUSD\"]=0.714\n",
    "exchange_rates # ausgabe: {'EURUSD': 1.1152, 'GBPUSD': 1.2, 'AUSUSD': 0.6161, 'CADUSD': 0.714}\n",
    "# Elemente über Zusammeführung ergänzen - Entpacken: **, Überschreiben eines Wertes \n",
    "## {**exchange_rates, **{\"SGDUSD\":0.7004, \"GBPUSD\": 1.2222}}\n",
    "## ... oder ab Python 3.9 mit merge-Operator \n",
    "# exchange_rates | {\"SGDUSD\":0.7004, \"GBPUSD\": 1.2222} # \n",
    "## --- fehler, da nur python 3.8 --  \n",
    "## ... (intermission: update conda / python, s. md), dann nochmal: \n",
    "exchange_rates | {\"SGDUSD\":0.7004, \"GBPUSD\": 1.2222} # Ausgabe: \n",
    "    # {'EURUSD': 1.1152,\n",
    "    #  'GBPUSD': 1.2222,\n",
    "    #  'AUSUSD': 0.6161,\n",
    "    #  'CADUSD': 0.714,\n",
    "    #  'SGDUSD': 0.7004}"
   ]
  },
  {
   "cell_type": "code",
   "execution_count": 4,
   "metadata": {},
   "outputs": [
    {
     "data": {
      "text/plain": [
       "'N/A'"
      ]
     },
     "execution_count": 4,
     "metadata": {},
     "output_type": "execute_result"
    }
   ],
   "source": [
    "currencies={1:\"EUR\",2:\"USD\",3:\"AUD\"}\n",
    "currencies[1] # \"EUR\" -- sieht wie ein Zugriff auf eine Listen-Element aus, ist aber ein \"dict\":\n",
    "# type(currencies) # \"dict\"\n",
    "currencies.get(22, 'N/A') # eine Art \"coalesce()\""
   ]
  },
  {
   "cell_type": "code",
   "execution_count": 7,
   "metadata": {},
   "outputs": [
    {
     "data": {
      "text/plain": [
       "{'a': 1, 'b': 2}"
      ]
     },
     "execution_count": 7,
     "metadata": {},
     "output_type": "execute_result"
    }
   ],
   "source": [
    "# Konstruktor \n",
    "dic=dict(a=1, b=2) \n",
    "dic"
   ]
  },
  {
   "cell_type": "code",
   "execution_count": null,
   "metadata": {},
   "outputs": [],
   "source": []
  }
 ],
 "metadata": {
  "kernelspec": {
   "display_name": "Python 3",
   "language": "python",
   "name": "python3"
  },
  "language_info": {
   "codemirror_mode": {
    "name": "ipython",
    "version": 3
   },
   "file_extension": ".py",
   "mimetype": "text/x-python",
   "name": "python",
   "nbconvert_exporter": "python",
   "pygments_lexer": "ipython3",
   "version": "3.11.5"
  }
 },
 "nbformat": 4,
 "nbformat_minor": 4
}
