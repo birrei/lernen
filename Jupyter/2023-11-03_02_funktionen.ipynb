{
 "cells": [
  {
   "cell_type": "markdown",
   "id": "b92ac07a",
   "metadata": {},
   "source": [
    "# Funktionen definieren "
   ]
  },
  {
   "cell_type": "code",
   "execution_count": 7,
   "id": "8474ca9c",
   "metadata": {},
   "outputs": [],
   "source": [
    "# funktion definieren\n",
    "def convert_to_celsius(degrees, source=\"fahrenheit\"):\n",
    "    if source.lower()==\"fahrenheit\":\n",
    "        return (degrees-32) * (5/9)\n",
    "    elif source.lower() == \"kelvin\":\n",
    "        return degrees - 273.15\n",
    "    else:\n",
    "        return f\"kann {source} nicht umrechnen\""
   ]
  },
  {
   "cell_type": "code",
   "execution_count": 8,
   "id": "70ce195e",
   "metadata": {},
   "outputs": [
    {
     "data": {
      "text/plain": [
       "-273.15"
      ]
     },
     "execution_count": 8,
     "metadata": {},
     "output_type": "execute_result"
    }
   ],
   "source": [
    "convert_to_celsius(100, \"fahrenheit\") #positionsargumente \n",
    "convert_to_celsius(100) ## gleiches ergebnis\n",
    "convert_to_celsius(source=\"kelvin\", degrees=0) # schlüsselwortartumente "
   ]
  },
  {
   "cell_type": "markdown",
   "id": "69a6825f",
   "metadata": {},
   "source": [
    "# Module und die import-Anweisung "
   ]
  },
  {
   "cell_type": "code",
   "execution_count": 2,
   "id": "13a6d7a3",
   "metadata": {},
   "outputs": [
    {
     "data": {
      "text/plain": [
       "48.88888888888889"
      ]
     },
     "execution_count": 2,
     "metadata": {},
     "output_type": "execute_result"
    }
   ],
   "source": [
    "# Datei temperature.py liegt im gleichen Verz. wie das Notebook \n",
    "import temperature\n",
    "## gibt den Text aus der print-Anweisung aus .. \n",
    "temperature.TEMPERATURE_SCALES\n",
    "temperature.convert_to_celsius(120)"
   ]
  },
  {
   "cell_type": "code",
   "execution_count": 5,
   "id": "67836b33",
   "metadata": {},
   "outputs": [
    {
     "data": {
      "text/plain": [
       "('fahrenheit', 'kelvin', 'celsius')"
      ]
     },
     "execution_count": 5,
     "metadata": {},
     "output_type": "execute_result"
    }
   ],
   "source": [
    "# import des moduls mit alias \n",
    "import temperature as tp \n",
    "tp.TEMPERATURE_SCALES"
   ]
  },
  {
   "cell_type": "code",
   "execution_count": 1,
   "id": "ff79ad1b",
   "metadata": {},
   "outputs": [
    {
     "name": "stdout",
     "output_type": "stream",
     "text": [
      "This is the temperature module.\n"
     ]
    },
    {
     "data": {
      "text/plain": [
       "('fahrenheit', 'kelvin', 'celsius')"
      ]
     },
     "execution_count": 1,
     "metadata": {},
     "output_type": "execute_result"
    }
   ],
   "source": [
    "# import von Attributen bzw. Methoden eines Moduls \n",
    "# nicht empfehlenswert ... S. 90, unten \n",
    "from temperature import TEMPERATURE_SCALES, convert_to_celsius\n",
    "TEMPERATURE_SCALES"
   ]
  },
  {
   "cell_type": "code",
   "execution_count": null,
   "id": "22cdd09f",
   "metadata": {},
   "outputs": [],
   "source": []
  }
 ],
 "metadata": {
  "kernelspec": {
   "display_name": "Python 3",
   "language": "python",
   "name": "python3"
  },
  "language_info": {
   "codemirror_mode": {
    "name": "ipython",
    "version": 3
   },
   "file_extension": ".py",
   "mimetype": "text/x-python",
   "name": "python",
   "nbconvert_exporter": "python",
   "pygments_lexer": "ipython3",
   "version": "3.11.5"
  }
 },
 "nbformat": 4,
 "nbformat_minor": 5
}
