{
 "cells": [
  {
   "cell_type": "markdown",
   "id": "b92ac07a",
   "metadata": {},
   "source": [
    "# Funktionen definieren "
   ]
  },
  {
   "cell_type": "code",
   "execution_count": 7,
   "id": "8474ca9c",
   "metadata": {},
   "outputs": [],
   "source": [
    "# funktion definieren\n",
    "def convert_to_celsius(degrees, source=\"fahrenheit\"):\n",
    "    if source.lower()==\"fahrenheit\":\n",
    "        return (degrees-32) * (5/9)\n",
    "    elif source.lower() == \"kelvin\":\n",
    "        return degrees - 273.15\n",
    "    else:\n",
    "        return f\"kann {source} nicht umrechnen\""
   ]
  },
  {
   "cell_type": "code",
   "execution_count": 8,
   "id": "70ce195e",
   "metadata": {},
   "outputs": [
    {
     "data": {
      "text/plain": [
       "-273.15"
      ]
     },
     "execution_count": 8,
     "metadata": {},
     "output_type": "execute_result"
    }
   ],
   "source": [
    "convert_to_celsius(100, \"fahrenheit\") #positionsargumente \n",
    "convert_to_celsius(100) ## gleiches ergebnis\n",
    "convert_to_celsius(source=\"kelvin\", degrees=0) # schlüsselwortartumente "
   ]
  },
  {
   "cell_type": "markdown",
   "id": "69a6825f",
   "metadata": {},
   "source": [
    "# Module und die import-Anweisung "
   ]
  },
  {
   "cell_type": "code",
   "execution_count": 2,
   "id": "13a6d7a3",
   "metadata": {},
   "outputs": [
    {
     "data": {
      "text/plain": [
       "48.88888888888889"
      ]
     },
     "execution_count": 2,
     "metadata": {},
     "output_type": "execute_result"
    }
   ],
   "source": [
    "# Datei temperature.py liegt im gleichen Verz. wie das Notebook \n",
    "import temperature\n",
    "## gibt den Text aus der print-Anweisung aus .. \n",
    "temperature.TEMPERATURE_SCALES\n",
    "temperature.convert_to_celsius(120)"
   ]
  },
  {
   "cell_type": "code",
   "execution_count": 5,
   "id": "67836b33",
   "metadata": {},
   "outputs": [
    {
     "data": {
      "text/plain": [
       "('fahrenheit', 'kelvin', 'celsius')"
      ]
     },
     "execution_count": 5,
     "metadata": {},
     "output_type": "execute_result"
    }
   ],
   "source": [
    "# import des moduls mit alias \n",
    "import temperature as tp \n",
    "tp.TEMPERATURE_SCALES"
   ]
  },
  {
   "cell_type": "code",
   "execution_count": 1,
   "id": "ff79ad1b",
   "metadata": {},
   "outputs": [
    {
     "name": "stdout",
     "output_type": "stream",
     "text": [
      "This is the temperature module.\n"
     ]
    },
    {
     "data": {
      "text/plain": [
       "('fahrenheit', 'kelvin', 'celsius')"
      ]
     },
     "execution_count": 1,
     "metadata": {},
     "output_type": "execute_result"
    }
   ],
   "source": [
    "# import von Attributen bzw. Methoden eines Moduls \n",
    "# nicht empfehlenswert ... S. 90, unten \n",
    "from temperature import TEMPERATURE_SCALES, convert_to_celsius\n",
    "TEMPERATURE_SCALES"
   ]
  },
  {
   "cell_type": "markdown",
   "id": "992f5355",
   "metadata": {},
   "source": [
    "## die Klasse datetime (s. 91)"
   ]
  },
  {
   "cell_type": "code",
   "execution_count": 2,
   "id": "65a4e1f3",
   "metadata": {},
   "outputs": [],
   "source": [
    "import datetime as dt"
   ]
  },
  {
   "cell_type": "code",
   "execution_count": 9,
   "id": "ca0927ab",
   "metadata": {},
   "outputs": [
    {
     "data": {
      "text/plain": [
       "datetime.datetime(2020, 1, 31, 14, 30)"
      ]
     },
     "execution_count": 9,
     "metadata": {},
     "output_type": "execute_result"
    }
   ],
   "source": [
    "dt.datetime(2020,1,31,14,30)"
   ]
  },
  {
   "cell_type": "code",
   "execution_count": 10,
   "id": "72e17b71",
   "metadata": {},
   "outputs": [
    {
     "data": {
      "text/plain": [
       "31"
      ]
     },
     "execution_count": 10,
     "metadata": {},
     "output_type": "execute_result"
    }
   ],
   "source": [
    "timestamp = dt.datetime(2020,1,31,14,30)\n",
    "timestamp.day "
   ]
  },
  {
   "cell_type": "code",
   "execution_count": 11,
   "id": "901f87a1",
   "metadata": {},
   "outputs": [
    {
     "data": {
      "text/plain": [
       "datetime.timedelta(days=16, seconds=71340)"
      ]
     },
     "execution_count": 11,
     "metadata": {},
     "output_type": "execute_result"
    }
   ],
   "source": [
    "## differenz zweier datetime-objekte -> timedelta-objekt \n",
    "timestamp - dt.datetime(2020,1,14, 18,41)"
   ]
  },
  {
   "cell_type": "code",
   "execution_count": 12,
   "id": "f6b44594",
   "metadata": {},
   "outputs": [
    {
     "data": {
      "text/plain": [
       "datetime.datetime(2020, 2, 1, 18, 41)"
      ]
     },
     "execution_count": 12,
     "metadata": {},
     "output_type": "execute_result"
    }
   ],
   "source": [
    "## berechnung datetime + timedelta-objekte \n",
    "timestamp + dt.timedelta(days=1,hours=4,minutes=11)"
   ]
  },
  {
   "cell_type": "code",
   "execution_count": 19,
   "id": "4b8d124a",
   "metadata": {},
   "outputs": [
    {
     "data": {
      "text/plain": [
       "'31/012020 14:30'"
      ]
     },
     "execution_count": 19,
     "metadata": {},
     "output_type": "execute_result"
    }
   ],
   "source": [
    "# formatierung mit methode strftime\n",
    "timestamp.strftime(\"%d/%m%Y %H:%M\")"
   ]
  },
  {
   "cell_type": "code",
   "execution_count": 20,
   "id": "8c0ef687",
   "metadata": {},
   "outputs": [
    {
     "data": {
      "text/plain": [
       "'31/012020 14:30'"
      ]
     },
     "execution_count": 20,
     "metadata": {},
     "output_type": "execute_result"
    }
   ],
   "source": [
    "# ... alterantive: formatierung mit f-string \n",
    "f\"{timestamp:%d/%m%Y %H:%M}\""
   ]
  },
  {
   "cell_type": "code",
   "execution_count": 23,
   "id": "578dd8b2",
   "metadata": {},
   "outputs": [
    {
     "data": {
      "text/plain": [
       "datetime.datetime(2020, 11, 12, 0, 0)"
      ]
     },
     "execution_count": 23,
     "metadata": {},
     "output_type": "execute_result"
    }
   ],
   "source": [
    "# parsten mit strptime \n",
    "dt.datetime.strptime(\"12.11.2020\", \"%d.%m.%Y\") "
   ]
  },
  {
   "cell_type": "markdown",
   "id": "8d690109",
   "metadata": {},
   "source": [
    "Formatcodes für strftime / strptime: https://docs.python.org/3/library/datetime.html#strftime-and-strptime-behavior"
   ]
  },
  {
   "cell_type": "code",
   "execution_count": null,
   "id": "dd4a47be",
   "metadata": {},
   "outputs": [],
   "source": []
  }
 ],
 "metadata": {
  "kernelspec": {
   "display_name": "Python 3",
   "language": "python",
   "name": "python3"
  },
  "language_info": {
   "codemirror_mode": {
    "name": "ipython",
    "version": 3
   },
   "file_extension": ".py",
   "mimetype": "text/x-python",
   "name": "python",
   "nbconvert_exporter": "python",
   "pygments_lexer": "ipython3",
   "version": "3.11.5"
  }
 },
 "nbformat": 4,
 "nbformat_minor": 5
}
